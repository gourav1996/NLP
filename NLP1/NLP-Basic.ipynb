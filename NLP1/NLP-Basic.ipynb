{
 "cells": [
  {
   "cell_type": "markdown",
   "id": "98a1caed",
   "metadata": {},
   "source": [
    "## Tokenization"
   ]
  },
  {
   "cell_type": "code",
   "execution_count": 1,
   "id": "fe312ef7",
   "metadata": {},
   "outputs": [],
   "source": [
    "import nltk"
   ]
  },
  {
   "cell_type": "code",
   "execution_count": 1,
   "id": "18ad3747",
   "metadata": {},
   "outputs": [
    {
     "name": "stdout",
     "output_type": "stream",
     "text": [
      "showing info https://raw.githubusercontent.com/nltk/nltk_data/gh-pages/index.xml\n"
     ]
    },
    {
     "data": {
      "text/plain": [
       "True"
      ]
     },
     "execution_count": 1,
     "metadata": {},
     "output_type": "execute_result"
    }
   ],
   "source": [
    "import nltk\n",
    "import ssl\n",
    "\n",
    "try:\n",
    "    _create_unverified_https_context = ssl._create_unverified_context\n",
    "except AttributeError:\n",
    "    pass\n",
    "else:\n",
    "    ssl._create_default_https_context = _create_unverified_https_context\n",
    "\n",
    "nltk.download()"
   ]
  },
  {
   "cell_type": "code",
   "execution_count": 2,
   "id": "06c604d5",
   "metadata": {},
   "outputs": [],
   "source": [
    "paragraph = \"Kerala gave a fitting tribute to India’s former President Dr. A P J Abdul Kalam by opening a museum dedicated to him in Thiruvananthapuram yesterday. Named ‘Dr. Kalam Smriti International Science & Space Museum’, it is the first of its kind in South India and houses the missile man’s personal memorabilia such as rare photographs, miniature rocket models, satellites, etc. Inaugurated by former ISRO chairman Dr. K Radhakrishnan, the museum has a gallery full of Kalam’s quotes intended to inspire the youth. \""
   ]
  },
  {
   "cell_type": "code",
   "execution_count": 3,
   "id": "d54566e3",
   "metadata": {},
   "outputs": [
    {
     "data": {
      "text/plain": [
       "'Kerala gave a fitting tribute to India’s former President Dr. A P J Abdul Kalam by opening a museum dedicated to him in Thiruvananthapuram yesterday. Named ‘Dr. Kalam Smriti International Science & Space Museum’, it is the first of its kind in South India and houses the missile man’s personal memorabilia such as rare photographs, miniature rocket models, satellites, etc. Inaugurated by former ISRO chairman Dr. K Radhakrishnan, the museum has a gallery full of Kalam’s quotes intended to inspire the youth. '"
      ]
     },
     "execution_count": 3,
     "metadata": {},
     "output_type": "execute_result"
    }
   ],
   "source": [
    "paragraph"
   ]
  },
  {
   "cell_type": "code",
   "execution_count": 4,
   "id": "fc3a8634",
   "metadata": {},
   "outputs": [],
   "source": [
    "sentance = nltk.sent_tokenize(paragraph)"
   ]
  },
  {
   "cell_type": "code",
   "execution_count": 5,
   "id": "9e8a9d35",
   "metadata": {},
   "outputs": [
    {
     "data": {
      "text/plain": [
       "['Kerala gave a fitting tribute to India’s former President Dr. A P J Abdul Kalam by opening a museum dedicated to him in Thiruvananthapuram yesterday.',\n",
       " 'Named ‘Dr.',\n",
       " 'Kalam Smriti International Science & Space Museum’, it is the first of its kind in South India and houses the missile man’s personal memorabilia such as rare photographs, miniature rocket models, satellites, etc.',\n",
       " 'Inaugurated by former ISRO chairman Dr. K Radhakrishnan, the museum has a gallery full of Kalam’s quotes intended to inspire the youth.']"
      ]
     },
     "execution_count": 5,
     "metadata": {},
     "output_type": "execute_result"
    }
   ],
   "source": [
    "sentance"
   ]
  },
  {
   "cell_type": "code",
   "execution_count": 6,
   "id": "224dc060",
   "metadata": {},
   "outputs": [],
   "source": [
    "words = nltk.word_tokenize(paragraph)"
   ]
  },
  {
   "cell_type": "code",
   "execution_count": 7,
   "id": "47db09f4",
   "metadata": {
    "scrolled": true
   },
   "outputs": [
    {
     "data": {
      "text/plain": [
       "['Kerala',\n",
       " 'gave',\n",
       " 'a',\n",
       " 'fitting',\n",
       " 'tribute',\n",
       " 'to',\n",
       " 'India',\n",
       " '’',\n",
       " 's',\n",
       " 'former',\n",
       " 'President',\n",
       " 'Dr.',\n",
       " 'A',\n",
       " 'P',\n",
       " 'J',\n",
       " 'Abdul',\n",
       " 'Kalam',\n",
       " 'by',\n",
       " 'opening',\n",
       " 'a',\n",
       " 'museum',\n",
       " 'dedicated',\n",
       " 'to',\n",
       " 'him',\n",
       " 'in',\n",
       " 'Thiruvananthapuram',\n",
       " 'yesterday',\n",
       " '.',\n",
       " 'Named',\n",
       " '‘',\n",
       " 'Dr',\n",
       " '.',\n",
       " 'Kalam',\n",
       " 'Smriti',\n",
       " 'International',\n",
       " 'Science',\n",
       " '&',\n",
       " 'Space',\n",
       " 'Museum',\n",
       " '’',\n",
       " ',',\n",
       " 'it',\n",
       " 'is',\n",
       " 'the',\n",
       " 'first',\n",
       " 'of',\n",
       " 'its',\n",
       " 'kind',\n",
       " 'in',\n",
       " 'South',\n",
       " 'India',\n",
       " 'and',\n",
       " 'houses',\n",
       " 'the',\n",
       " 'missile',\n",
       " 'man',\n",
       " '’',\n",
       " 's',\n",
       " 'personal',\n",
       " 'memorabilia',\n",
       " 'such',\n",
       " 'as',\n",
       " 'rare',\n",
       " 'photographs',\n",
       " ',',\n",
       " 'miniature',\n",
       " 'rocket',\n",
       " 'models',\n",
       " ',',\n",
       " 'satellites',\n",
       " ',',\n",
       " 'etc',\n",
       " '.',\n",
       " 'Inaugurated',\n",
       " 'by',\n",
       " 'former',\n",
       " 'ISRO',\n",
       " 'chairman',\n",
       " 'Dr.',\n",
       " 'K',\n",
       " 'Radhakrishnan',\n",
       " ',',\n",
       " 'the',\n",
       " 'museum',\n",
       " 'has',\n",
       " 'a',\n",
       " 'gallery',\n",
       " 'full',\n",
       " 'of',\n",
       " 'Kalam',\n",
       " '’',\n",
       " 's',\n",
       " 'quotes',\n",
       " 'intended',\n",
       " 'to',\n",
       " 'inspire',\n",
       " 'the',\n",
       " 'youth',\n",
       " '.']"
      ]
     },
     "execution_count": 7,
     "metadata": {},
     "output_type": "execute_result"
    }
   ],
   "source": [
    "words"
   ]
  },
  {
   "cell_type": "markdown",
   "id": "f1c6b64e",
   "metadata": {},
   "source": [
    "## Steamming"
   ]
  },
  {
   "cell_type": "code",
   "execution_count": 8,
   "id": "e2e1393e",
   "metadata": {},
   "outputs": [],
   "source": [
    "from nltk.corpus import stopwords\n",
    "from nltk.stem import PorterStemmer"
   ]
  },
  {
   "cell_type": "code",
   "execution_count": 9,
   "id": "801c8707",
   "metadata": {},
   "outputs": [],
   "source": [
    "sentance = nltk.sent_tokenize(paragraph)\n",
    "stemmer = PorterStemmer()"
   ]
  },
  {
   "cell_type": "code",
   "execution_count": 10,
   "id": "8be23075",
   "metadata": {},
   "outputs": [],
   "source": [
    "#Stemming\n",
    "for i in range(len(sentance)):\n",
    "    words = nltk.word_tokenize(sentance[i])\n",
    "    words = [stemmer.stem(word=word) for word in words if word not in set(stopwords.words('english'))]\n",
    "    sentance[i] = ' '.join(words)"
   ]
  },
  {
   "cell_type": "code",
   "execution_count": 17,
   "id": "21348e6d",
   "metadata": {},
   "outputs": [
    {
     "data": {
      "text/plain": [
       "['kerala gave fit tribut india ’ former presid dr. a p j abdul kalam open museum dedic thiruvananthapuram yesterday .',\n",
       " 'name ‘ dr .',\n",
       " 'kalam smriti intern scienc & space museum ’ , first kind south india hous missil man ’ person memorabilia rare photograph , miniatur rocket model , satellit , etc .',\n",
       " 'inaugur former isro chairman dr. k radhakrishnan , museum galleri full kalam ’ quot intend inspir youth .']"
      ]
     },
     "execution_count": 17,
     "metadata": {},
     "output_type": "execute_result"
    }
   ],
   "source": [
    "sentance"
   ]
  },
  {
   "cell_type": "markdown",
   "id": "97024af0",
   "metadata": {},
   "source": [
    "## Lemmatization"
   ]
  },
  {
   "cell_type": "code",
   "execution_count": 18,
   "id": "1c4f48ab",
   "metadata": {},
   "outputs": [],
   "source": [
    "# Lemmatiztion takes time to execute "
   ]
  },
  {
   "cell_type": "code",
   "execution_count": 12,
   "id": "c3ea8434",
   "metadata": {},
   "outputs": [],
   "source": [
    "from nltk.stem import WordNetLemmatizer"
   ]
  },
  {
   "cell_type": "code",
   "execution_count": 13,
   "id": "21880d84",
   "metadata": {},
   "outputs": [],
   "source": [
    "sentances = nltk.sent_tokenize(paragraph)\n",
    "lemmatizer = WordNetLemmatizer()"
   ]
  },
  {
   "cell_type": "code",
   "execution_count": 15,
   "id": "3fa7a03a",
   "metadata": {},
   "outputs": [],
   "source": [
    "for i in range(len(sentances)):\n",
    "    words = nltk.word_tokenize(sentances[i])\n",
    "    words = [lemmatizer.lemmatize(word=word) for word in words if word not in set(stopwords.words('english'))]\n",
    "    sentances[i] = ' '.join(words)"
   ]
  },
  {
   "cell_type": "code",
   "execution_count": 16,
   "id": "9b98a66a",
   "metadata": {},
   "outputs": [
    {
     "data": {
      "text/plain": [
       "['Kerala gave fitting tribute India ’ former President Dr. A P J Abdul Kalam opening museum dedicated Thiruvananthapuram yesterday .',\n",
       " 'Named ‘ Dr .',\n",
       " 'Kalam Smriti International Science & Space Museum ’ , first kind South India house missile man ’ personal memorabilia rare photograph , miniature rocket model , satellite , etc .',\n",
       " 'Inaugurated former ISRO chairman Dr. K Radhakrishnan , museum gallery full Kalam ’ quote intended inspire youth .']"
      ]
     },
     "execution_count": 16,
     "metadata": {},
     "output_type": "execute_result"
    }
   ],
   "source": [
    "sentances"
   ]
  },
  {
   "cell_type": "markdown",
   "id": "2d0c98ad",
   "metadata": {},
   "source": [
    "## Text cleaning"
   ]
  },
  {
   "cell_type": "code",
   "execution_count": 19,
   "id": "b0688729",
   "metadata": {},
   "outputs": [],
   "source": [
    "import re"
   ]
  },
  {
   "cell_type": "code",
   "execution_count": 20,
   "id": "c9b59122",
   "metadata": {},
   "outputs": [],
   "source": [
    "ps = PorterStemmer()\n",
    "wordnet = WordNetLemmatizer()\n",
    "sentences = nltk.sent_tokenize(paragraph)"
   ]
  },
  {
   "cell_type": "code",
   "execution_count": 22,
   "id": "8819073d",
   "metadata": {},
   "outputs": [],
   "source": [
    "corpus = []\n",
    "for i in range(len(sentances)):\n",
    "    review = re.sub('[^a-zA-Z]',' ',sentances[i])\n",
    "    review = review.lower()\n",
    "    review = review.split()\n",
    "    review = [ps.stem(word=word) for word in review if word not in set(stopwords.words('english'))]\n",
    "    review = ' '.join(review)\n",
    "    corpus.append(review)"
   ]
  },
  {
   "cell_type": "code",
   "execution_count": 23,
   "id": "ce045feb",
   "metadata": {},
   "outputs": [
    {
     "data": {
      "text/plain": [
       "['kerala gave fit tribut india former presid dr p j abdul kalam open museum dedic thiruvananthapuram yesterday',\n",
       " 'name dr',\n",
       " 'kalam smriti intern scienc space museum first kind south india hous missil man person memorabilia rare photograph miniatur rocket model satellit etc',\n",
       " 'inaugur former isro chairman dr k radhakrishnan museum galleri full kalam quot intend inspir youth']"
      ]
     },
     "execution_count": 23,
     "metadata": {},
     "output_type": "execute_result"
    }
   ],
   "source": [
    "corpus"
   ]
  },
  {
   "cell_type": "markdown",
   "id": "17155c12",
   "metadata": {},
   "source": [
    "## BagofWords"
   ]
  },
  {
   "cell_type": "code",
   "execution_count": 26,
   "id": "247cbed8",
   "metadata": {},
   "outputs": [],
   "source": [
    "# Creating the Bag of words\n",
    "from sklearn.feature_extraction.text import CountVectorizer\n",
    "\n",
    "cv = CountVectorizer()\n",
    "X = cv.fit_transform(corpus).toarray()\n",
    "\n"
   ]
  },
  {
   "cell_type": "markdown",
   "id": "de0000f6",
   "metadata": {},
   "source": [
    "## TF-IDF"
   ]
  },
  {
   "cell_type": "code",
   "execution_count": 29,
   "id": "f8c1fa6f",
   "metadata": {},
   "outputs": [],
   "source": [
    "from sklearn.feature_extraction.text import TfidfVectorizer\n",
    "cv = TfidfVectorizer()\n",
    "X = cv.fit_transform(corpus).toarray()"
   ]
  },
  {
   "cell_type": "code",
   "execution_count": null,
   "id": "158b5f8e",
   "metadata": {},
   "outputs": [],
   "source": []
  }
 ],
 "metadata": {
  "kernelspec": {
   "display_name": "spark",
   "language": "python",
   "name": "spark"
  },
  "language_info": {
   "codemirror_mode": {
    "name": "ipython",
    "version": 3
   },
   "file_extension": ".py",
   "mimetype": "text/x-python",
   "name": "python",
   "nbconvert_exporter": "python",
   "pygments_lexer": "ipython3",
   "version": "3.8.5"
  }
 },
 "nbformat": 4,
 "nbformat_minor": 5
}
