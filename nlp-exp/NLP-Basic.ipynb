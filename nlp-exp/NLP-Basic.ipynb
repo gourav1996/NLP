{
 "cells": [
  {
   "cell_type": "markdown",
   "id": "98a1caed",
   "metadata": {},
   "source": [
    "## Tokenization"
   ]
  },
  {
   "cell_type": "code",
   "execution_count": 1,
   "id": "fe312ef7",
   "metadata": {},
   "outputs": [],
   "source": [
    "import nltk"
   ]
  },
  {
   "cell_type": "code",
   "execution_count": 2,
   "id": "18ad3747",
   "metadata": {},
   "outputs": [
    {
     "name": "stdout",
     "output_type": "stream",
     "text": [
      "showing info https://raw.githubusercontent.com/nltk/nltk_data/gh-pages/index.xml\n"
     ]
    },
    {
     "data": {
      "text/plain": [
       "True"
      ]
     },
     "execution_count": 2,
     "metadata": {},
     "output_type": "execute_result"
    }
   ],
   "source": [
    "import nltk\n",
    "import ssl\n",
    "\n",
    "try:\n",
    "    _create_unverified_https_context = ssl._create_unverified_context\n",
    "except AttributeError:\n",
    "    pass\n",
    "else:\n",
    "    ssl._create_default_https_context = _create_unverified_https_context\n",
    "\n",
    "nltk.download()"
   ]
  },
  {
   "cell_type": "code",
   "execution_count": 3,
   "id": "06c604d5",
   "metadata": {},
   "outputs": [],
   "source": [
    "paragraph = \"Kerala gave a fitting tribute to India’s former President Dr. A P J Abdul Kalam by opening a museum dedicated to him in Thiruvananthapuram yesterday. Named ‘Dr. Kalam Smriti International Science & Space Museum’, it is the first of its kind in South India and houses the missile man’s personal memorabilia such as rare photographs, miniature rocket models, satellites, etc. Inaugurated by former ISRO chairman Dr. K Radhakrishnan, the museum has a gallery full of Kalam’s quotes intended to inspire the youth. \""
   ]
  },
  {
   "cell_type": "code",
   "execution_count": 4,
   "id": "d54566e3",
   "metadata": {},
   "outputs": [
    {
     "data": {
      "text/plain": [
       "'Kerala gave a fitting tribute to India’s former President Dr. A P J Abdul Kalam by opening a museum dedicated to him in Thiruvananthapuram yesterday. Named ‘Dr. Kalam Smriti International Science & Space Museum’, it is the first of its kind in South India and houses the missile man’s personal memorabilia such as rare photographs, miniature rocket models, satellites, etc. Inaugurated by former ISRO chairman Dr. K Radhakrishnan, the museum has a gallery full of Kalam’s quotes intended to inspire the youth. '"
      ]
     },
     "execution_count": 4,
     "metadata": {},
     "output_type": "execute_result"
    }
   ],
   "source": [
    "paragraph"
   ]
  },
  {
   "cell_type": "code",
   "execution_count": 4,
   "id": "fc3a8634",
   "metadata": {},
   "outputs": [],
   "source": [
    "sentance = nltk.sent_tokenize(paragraph)"
   ]
  },
  {
   "cell_type": "code",
   "execution_count": 5,
   "id": "9e8a9d35",
   "metadata": {},
   "outputs": [
    {
     "data": {
      "text/plain": [
       "['Kerala gave a fitting tribute to India’s former President Dr. A P J Abdul Kalam by opening a museum dedicated to him in Thiruvananthapuram yesterday.',\n",
       " 'Named ‘Dr.',\n",
       " 'Kalam Smriti International Science & Space Museum’, it is the first of its kind in South India and houses the missile man’s personal memorabilia such as rare photographs, miniature rocket models, satellites, etc.',\n",
       " 'Inaugurated by former ISRO chairman Dr. K Radhakrishnan, the museum has a gallery full of Kalam’s quotes intended to inspire the youth.']"
      ]
     },
     "execution_count": 5,
     "metadata": {},
     "output_type": "execute_result"
    }
   ],
   "source": [
    "sentance"
   ]
  },
  {
   "cell_type": "code",
   "execution_count": 6,
   "id": "224dc060",
   "metadata": {},
   "outputs": [],
   "source": [
    "words = nltk.word_tokenize(paragraph)"
   ]
  },
  {
   "cell_type": "code",
   "execution_count": 7,
   "id": "47db09f4",
   "metadata": {
    "scrolled": true
   },
   "outputs": [
    {
     "data": {
      "text/plain": [
       "['Kerala',\n",
       " 'gave',\n",
       " 'a',\n",
       " 'fitting',\n",
       " 'tribute',\n",
       " 'to',\n",
       " 'India',\n",
       " '’',\n",
       " 's',\n",
       " 'former',\n",
       " 'President',\n",
       " 'Dr.',\n",
       " 'A',\n",
       " 'P',\n",
       " 'J',\n",
       " 'Abdul',\n",
       " 'Kalam',\n",
       " 'by',\n",
       " 'opening',\n",
       " 'a',\n",
       " 'museum',\n",
       " 'dedicated',\n",
       " 'to',\n",
       " 'him',\n",
       " 'in',\n",
       " 'Thiruvananthapuram',\n",
       " 'yesterday',\n",
       " '.',\n",
       " 'Named',\n",
       " '‘',\n",
       " 'Dr',\n",
       " '.',\n",
       " 'Kalam',\n",
       " 'Smriti',\n",
       " 'International',\n",
       " 'Science',\n",
       " '&',\n",
       " 'Space',\n",
       " 'Museum',\n",
       " '’',\n",
       " ',',\n",
       " 'it',\n",
       " 'is',\n",
       " 'the',\n",
       " 'first',\n",
       " 'of',\n",
       " 'its',\n",
       " 'kind',\n",
       " 'in',\n",
       " 'South',\n",
       " 'India',\n",
       " 'and',\n",
       " 'houses',\n",
       " 'the',\n",
       " 'missile',\n",
       " 'man',\n",
       " '’',\n",
       " 's',\n",
       " 'personal',\n",
       " 'memorabilia',\n",
       " 'such',\n",
       " 'as',\n",
       " 'rare',\n",
       " 'photographs',\n",
       " ',',\n",
       " 'miniature',\n",
       " 'rocket',\n",
       " 'models',\n",
       " ',',\n",
       " 'satellites',\n",
       " ',',\n",
       " 'etc',\n",
       " '.',\n",
       " 'Inaugurated',\n",
       " 'by',\n",
       " 'former',\n",
       " 'ISRO',\n",
       " 'chairman',\n",
       " 'Dr.',\n",
       " 'K',\n",
       " 'Radhakrishnan',\n",
       " ',',\n",
       " 'the',\n",
       " 'museum',\n",
       " 'has',\n",
       " 'a',\n",
       " 'gallery',\n",
       " 'full',\n",
       " 'of',\n",
       " 'Kalam',\n",
       " '’',\n",
       " 's',\n",
       " 'quotes',\n",
       " 'intended',\n",
       " 'to',\n",
       " 'inspire',\n",
       " 'the',\n",
       " 'youth',\n",
       " '.']"
      ]
     },
     "execution_count": 7,
     "metadata": {},
     "output_type": "execute_result"
    }
   ],
   "source": [
    "words"
   ]
  },
  {
   "cell_type": "markdown",
   "id": "f1c6b64e",
   "metadata": {},
   "source": [
    "## Steamming"
   ]
  },
  {
   "cell_type": "code",
   "execution_count": 8,
   "id": "e2e1393e",
   "metadata": {},
   "outputs": [],
   "source": [
    "from nltk.corpus import stopwords\n",
    "from nltk.stem import PorterStemmer"
   ]
  },
  {
   "cell_type": "code",
   "execution_count": 9,
   "id": "801c8707",
   "metadata": {},
   "outputs": [],
   "source": [
    "sentance = nltk.sent_tokenize(paragraph)\n",
    "stemmer = PorterStemmer()"
   ]
  },
  {
   "cell_type": "code",
   "execution_count": 10,
   "id": "8be23075",
   "metadata": {},
   "outputs": [],
   "source": [
    "#Stemming\n",
    "for i in range(len(sentance)):\n",
    "    words = nltk.word_tokenize(sentance[i])\n",
    "    words = [stemmer.stem(word=word) for word in words if word not in set(stopwords.words('english'))]\n",
    "    sentance[i] = ' '.join(words)"
   ]
  },
  {
   "cell_type": "code",
   "execution_count": 17,
   "id": "21348e6d",
   "metadata": {},
   "outputs": [
    {
     "data": {
      "text/plain": [
       "['kerala gave fit tribut india ’ former presid dr. a p j abdul kalam open museum dedic thiruvananthapuram yesterday .',\n",
       " 'name ‘ dr .',\n",
       " 'kalam smriti intern scienc & space museum ’ , first kind south india hous missil man ’ person memorabilia rare photograph , miniatur rocket model , satellit , etc .',\n",
       " 'inaugur former isro chairman dr. k radhakrishnan , museum galleri full kalam ’ quot intend inspir youth .']"
      ]
     },
     "execution_count": 17,
     "metadata": {},
     "output_type": "execute_result"
    }
   ],
   "source": [
    "sentance"
   ]
  },
  {
   "cell_type": "markdown",
   "id": "97024af0",
   "metadata": {},
   "source": [
    "## Lemmatization"
   ]
  },
  {
   "cell_type": "code",
   "execution_count": 18,
   "id": "1c4f48ab",
   "metadata": {},
   "outputs": [],
   "source": [
    "# Lemmatiztion takes time to execute "
   ]
  },
  {
   "cell_type": "code",
   "execution_count": 12,
   "id": "c3ea8434",
   "metadata": {},
   "outputs": [],
   "source": [
    "from nltk.stem import WordNetLemmatizer"
   ]
  },
  {
   "cell_type": "code",
   "execution_count": 13,
   "id": "21880d84",
   "metadata": {},
   "outputs": [],
   "source": [
    "sentances = nltk.sent_tokenize(paragraph)\n",
    "lemmatizer = WordNetLemmatizer()"
   ]
  },
  {
   "cell_type": "code",
   "execution_count": 15,
   "id": "3fa7a03a",
   "metadata": {},
   "outputs": [],
   "source": [
    "for i in range(len(sentances)):\n",
    "    words = nltk.word_tokenize(sentances[i])\n",
    "    words = [lemmatizer.lemmatize(word=word) for word in words if word not in set(stopwords.words('english'))]\n",
    "    sentances[i] = ' '.join(words)"
   ]
  },
  {
   "cell_type": "code",
   "execution_count": 16,
   "id": "9b98a66a",
   "metadata": {},
   "outputs": [
    {
     "data": {
      "text/plain": [
       "['Kerala gave fitting tribute India ’ former President Dr. A P J Abdul Kalam opening museum dedicated Thiruvananthapuram yesterday .',\n",
       " 'Named ‘ Dr .',\n",
       " 'Kalam Smriti International Science & Space Museum ’ , first kind South India house missile man ’ personal memorabilia rare photograph , miniature rocket model , satellite , etc .',\n",
       " 'Inaugurated former ISRO chairman Dr. K Radhakrishnan , museum gallery full Kalam ’ quote intended inspire youth .']"
      ]
     },
     "execution_count": 16,
     "metadata": {},
     "output_type": "execute_result"
    }
   ],
   "source": [
    "sentances"
   ]
  },
  {
   "cell_type": "markdown",
   "id": "2d0c98ad",
   "metadata": {},
   "source": [
    "## Text cleaning"
   ]
  },
  {
   "cell_type": "code",
   "execution_count": 19,
   "id": "b0688729",
   "metadata": {},
   "outputs": [],
   "source": [
    "import re"
   ]
  },
  {
   "cell_type": "code",
   "execution_count": 20,
   "id": "c9b59122",
   "metadata": {},
   "outputs": [],
   "source": [
    "ps = PorterStemmer()\n",
    "wordnet = WordNetLemmatizer()\n",
    "sentences = nltk.sent_tokenize(paragraph)"
   ]
  },
  {
   "cell_type": "code",
   "execution_count": 22,
   "id": "8819073d",
   "metadata": {},
   "outputs": [],
   "source": [
    "corpus = []\n",
    "for i in range(len(sentances)):\n",
    "    review = re.sub('[^a-zA-Z]',' ',sentances[i])\n",
    "    review = review.lower()\n",
    "    review = review.split()\n",
    "    review = [ps.stem(word=word) for word in review if word not in set(stopwords.words('english'))]\n",
    "    review = ' '.join(review)\n",
    "    corpus.append(review)"
   ]
  },
  {
   "cell_type": "code",
   "execution_count": 23,
   "id": "ce045feb",
   "metadata": {},
   "outputs": [
    {
     "data": {
      "text/plain": [
       "['kerala gave fit tribut india former presid dr p j abdul kalam open museum dedic thiruvananthapuram yesterday',\n",
       " 'name dr',\n",
       " 'kalam smriti intern scienc space museum first kind south india hous missil man person memorabilia rare photograph miniatur rocket model satellit etc',\n",
       " 'inaugur former isro chairman dr k radhakrishnan museum galleri full kalam quot intend inspir youth']"
      ]
     },
     "execution_count": 23,
     "metadata": {},
     "output_type": "execute_result"
    }
   ],
   "source": [
    "corpus"
   ]
  },
  {
   "cell_type": "markdown",
   "id": "17155c12",
   "metadata": {},
   "source": [
    "## BagofWords"
   ]
  },
  {
   "cell_type": "code",
   "execution_count": 26,
   "id": "247cbed8",
   "metadata": {},
   "outputs": [],
   "source": [
    "# Creating the Bag of words\n",
    "from sklearn.feature_extraction.text import CountVectorizer\n",
    "\n",
    "cv = CountVectorizer()\n",
    "X = cv.fit_transform(corpus).toarray()\n",
    "\n"
   ]
  },
  {
   "cell_type": "markdown",
   "id": "de0000f6",
   "metadata": {},
   "source": [
    "## TF-IDF"
   ]
  },
  {
   "cell_type": "code",
   "execution_count": 29,
   "id": "f8c1fa6f",
   "metadata": {},
   "outputs": [],
   "source": [
    "from sklearn.feature_extraction.text import TfidfVectorizer\n",
    "cv = TfidfVectorizer()\n",
    "X = cv.fit_transform(corpus).toarray()"
   ]
  },
  {
   "cell_type": "markdown",
   "id": "075db79a",
   "metadata": {},
   "source": [
    "## Word2Vec"
   ]
  },
  {
   "cell_type": "code",
   "execution_count": 4,
   "id": "b968a466",
   "metadata": {},
   "outputs": [
    {
     "name": "stderr",
     "output_type": "stream",
     "text": [
      "/home/gourav/.virtualenvs/spark/lib/python3.8/site-packages/gensim/similarities/__init__.py:15: UserWarning: The gensim.similarities.levenshtein submodule is disabled, because the optional Levenshtein package <https://pypi.org/project/python-Levenshtein/> is unavailable. Install Levenhstein (e.g. `pip install python-Levenshtein`) to suppress this warning.\n",
      "  warnings.warn(msg)\n"
     ]
    }
   ],
   "source": [
    "from gensim.models import Word2Vec\n",
    "from nltk.corpus import stopwords\n",
    "import re"
   ]
  },
  {
   "cell_type": "code",
   "execution_count": 5,
   "id": "586fccab",
   "metadata": {},
   "outputs": [],
   "source": [
    "# !pip install -U gensim"
   ]
  },
  {
   "cell_type": "code",
   "execution_count": 6,
   "id": "b6847c50",
   "metadata": {},
   "outputs": [],
   "source": [
    "#Removing the digits\n",
    "text = re.sub(r'\\[[0-9]*\\]',' ', paragraph)"
   ]
  },
  {
   "cell_type": "code",
   "execution_count": 7,
   "id": "445cc6dd",
   "metadata": {},
   "outputs": [],
   "source": [
    "# Removing the spaces\n",
    "text = re.sub(r'\\s+',' ', text)"
   ]
  },
  {
   "cell_type": "code",
   "execution_count": 8,
   "id": "be3488e9",
   "metadata": {},
   "outputs": [],
   "source": [
    "# Converting all into lowerCase\n",
    "text = text.lower()"
   ]
  },
  {
   "cell_type": "code",
   "execution_count": 9,
   "id": "061ee8f8",
   "metadata": {},
   "outputs": [],
   "source": [
    "#Removing extra spaces\n",
    "text = re.sub(r'\\d',' ', text)\n",
    "text = re.sub(r'\\s+',' ', text)"
   ]
  },
  {
   "cell_type": "code",
   "execution_count": 10,
   "id": "52059a3f",
   "metadata": {},
   "outputs": [],
   "source": [
    "# Sentance tokenize\n",
    "sentences = nltk.sent_tokenize(paragraph)"
   ]
  },
  {
   "cell_type": "code",
   "execution_count": 11,
   "id": "98416b41",
   "metadata": {},
   "outputs": [
    {
     "data": {
      "text/plain": [
       "['Kerala gave a fitting tribute to India’s former President Dr. A P J Abdul Kalam by opening a museum dedicated to him in Thiruvananthapuram yesterday.',\n",
       " 'Named ‘Dr.',\n",
       " 'Kalam Smriti International Science & Space Museum’, it is the first of its kind in South India and houses the missile man’s personal memorabilia such as rare photographs, miniature rocket models, satellites, etc.',\n",
       " 'Inaugurated by former ISRO chairman Dr. K Radhakrishnan, the museum has a gallery full of Kalam’s quotes intended to inspire the youth.']"
      ]
     },
     "execution_count": 11,
     "metadata": {},
     "output_type": "execute_result"
    }
   ],
   "source": [
    "sentences"
   ]
  },
  {
   "cell_type": "code",
   "execution_count": 12,
   "id": "62a29e9b",
   "metadata": {},
   "outputs": [],
   "source": [
    "# Converting sentences in a word\n",
    "sentences = [nltk.word_tokenize(sentence) for sentence in sentences]"
   ]
  },
  {
   "cell_type": "code",
   "execution_count": 13,
   "id": "7a7b0937",
   "metadata": {},
   "outputs": [],
   "source": [
    "# Removing stop words\n",
    "for i in range(len(sentences)):\n",
    "    sentences[i] = [word for word in sentences[i] if word not in stopwords.words('english')]"
   ]
  },
  {
   "cell_type": "code",
   "execution_count": 14,
   "id": "3d2980f8",
   "metadata": {},
   "outputs": [],
   "source": [
    "# Training the Word2Vec\n",
    "# if the \n",
    "model = Word2Vec(sentences=sentences, min_count=1)"
   ]
  },
  {
   "cell_type": "code",
   "execution_count": 15,
   "id": "e590b031",
   "metadata": {},
   "outputs": [
    {
     "ename": "AttributeError",
     "evalue": "The vocab attribute was removed from KeyedVector in Gensim 4.0.0.\nUse KeyedVector's .key_to_index dict, .index_to_key list, and methods .get_vecattr(key, attr) and .set_vecattr(key, attr, new_val) instead.\nSee https://github.com/RaRe-Technologies/gensim/wiki/Migrating-from-Gensim-3.x-to-4",
     "output_type": "error",
     "traceback": [
      "\u001b[0;31m---------------------------------------------------------------------------\u001b[0m",
      "\u001b[0;31mAttributeError\u001b[0m                            Traceback (most recent call last)",
      "\u001b[0;32m<ipython-input-15-6bdc137849b7>\u001b[0m in \u001b[0;36m<module>\u001b[0;34m\u001b[0m\n\u001b[0;32m----> 1\u001b[0;31m \u001b[0mwords\u001b[0m \u001b[0;34m=\u001b[0m \u001b[0mmodel\u001b[0m\u001b[0;34m.\u001b[0m\u001b[0mwv\u001b[0m\u001b[0;34m.\u001b[0m\u001b[0mvocab\u001b[0m\u001b[0;34m\u001b[0m\u001b[0;34m\u001b[0m\u001b[0m\n\u001b[0m",
      "\u001b[0;32m~/.virtualenvs/spark/lib/python3.8/site-packages/gensim/models/keyedvectors.py\u001b[0m in \u001b[0;36mvocab\u001b[0;34m(self)\u001b[0m\n\u001b[1;32m    643\u001b[0m     \u001b[0;34m@\u001b[0m\u001b[0mproperty\u001b[0m\u001b[0;34m\u001b[0m\u001b[0;34m\u001b[0m\u001b[0m\n\u001b[1;32m    644\u001b[0m     \u001b[0;32mdef\u001b[0m \u001b[0mvocab\u001b[0m\u001b[0;34m(\u001b[0m\u001b[0mself\u001b[0m\u001b[0;34m)\u001b[0m\u001b[0;34m:\u001b[0m\u001b[0;34m\u001b[0m\u001b[0;34m\u001b[0m\u001b[0m\n\u001b[0;32m--> 645\u001b[0;31m         raise AttributeError(\n\u001b[0m\u001b[1;32m    646\u001b[0m             \u001b[0;34m\"The vocab attribute was removed from KeyedVector in Gensim 4.0.0.\\n\"\u001b[0m\u001b[0;34m\u001b[0m\u001b[0;34m\u001b[0m\u001b[0m\n\u001b[1;32m    647\u001b[0m             \u001b[0;34m\"Use KeyedVector's .key_to_index dict, .index_to_key list, and methods \"\u001b[0m\u001b[0;34m\u001b[0m\u001b[0;34m\u001b[0m\u001b[0m\n",
      "\u001b[0;31mAttributeError\u001b[0m: The vocab attribute was removed from KeyedVector in Gensim 4.0.0.\nUse KeyedVector's .key_to_index dict, .index_to_key list, and methods .get_vecattr(key, attr) and .set_vecattr(key, attr, new_val) instead.\nSee https://github.com/RaRe-Technologies/gensim/wiki/Migrating-from-Gensim-3.x-to-4"
     ]
    }
   ],
   "source": [
    "words = model.wv.vocab"
   ]
  },
  {
   "cell_type": "code",
   "execution_count": null,
   "id": "bd088c81",
   "metadata": {},
   "outputs": [],
   "source": []
  }
 ],
 "metadata": {
  "kernelspec": {
   "display_name": "spark",
   "language": "python",
   "name": "spark"
  },
  "language_info": {
   "codemirror_mode": {
    "name": "ipython",
    "version": 3
   },
   "file_extension": ".py",
   "mimetype": "text/x-python",
   "name": "python",
   "nbconvert_exporter": "python",
   "pygments_lexer": "ipython3",
   "version": "3.8.5"
  }
 },
 "nbformat": 4,
 "nbformat_minor": 5
}
